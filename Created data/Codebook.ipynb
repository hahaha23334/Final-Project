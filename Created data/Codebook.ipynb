{
 "cells": [
  {
   "cell_type": "code",
   "execution_count": 1,
   "id": "277faf46-46cf-496f-a6a3-6bc7596a8f05",
   "metadata": {
    "tags": []
   },
   "outputs": [
    {
     "name": "stdout",
     "output_type": "stream",
     "text": [
      "Collecting bs4\n",
      "  Downloading bs4-0.0.1.tar.gz (1.1 kB)\n",
      "  Preparing metadata (setup.py): started\n",
      "  Preparing metadata (setup.py): finished with status 'done'\n",
      "Requirement already satisfied: beautifulsoup4 in c:\\users\\lige2\\anaconda3\\lib\\site-packages (from bs4) (4.12.2)\n",
      "Requirement already satisfied: soupsieve>1.2 in c:\\users\\lige2\\anaconda3\\lib\\site-packages (from beautifulsoup4->bs4) (2.4)\n",
      "Building wheels for collected packages: bs4\n",
      "  Building wheel for bs4 (setup.py): started\n",
      "  Building wheel for bs4 (setup.py): finished with status 'done'\n",
      "  Created wheel for bs4: filename=bs4-0.0.1-py3-none-any.whl size=1264 sha256=f8e38e601546dd3ca125423e2d35578f3dc22257e541289602dd921399002f4c\n",
      "  Stored in directory: c:\\users\\lige2\\appdata\\local\\pip\\cache\\wheels\\d4\\c8\\5b\\b5be9c20e5e4503d04a6eac8a3cd5c2393505c29f02bea0960\n",
      "Successfully built bs4\n",
      "Installing collected packages: bs4\n",
      "Successfully installed bs4-0.0.1\n"
     ]
    }
   ],
   "source": [
    "! pip install bs4"
   ]
  },
  {
   "cell_type": "code",
   "execution_count": 2,
   "id": "0a9ef128-4eee-40db-a2ea-ae90a5bf6c55",
   "metadata": {
    "tags": []
   },
   "outputs": [],
   "source": [
    "import pandas as pd\n",
    "import requests\n",
    "from bs4 import BeautifulSoup\n",
    "import regex as re\n",
    "import urllib"
   ]
  },
  {
   "cell_type": "code",
   "execution_count": 3,
   "id": "f33776fd-4e76-40b1-87d1-0c8f9b1c6b5a",
   "metadata": {
    "tags": []
   },
   "outputs": [
    {
     "name": "stdout",
     "output_type": "stream",
     "text": [
      "DM https://wwwn.cdc.gov/nchs/nhanes/search/datapage.aspx?Component=Demographics&CycleBeginYear=2013\n",
      "DIET https://wwwn.cdc.gov/nchs/nhanes/Search/DataPage.aspx?Component=Dietary&CycleBeginYear=2013\n",
      "EXAM https://wwwn.cdc.gov/nchs/nhanes/Search/DataPage.aspx?Component=Examination&CycleBeginYear=2013\n",
      "LAB https://wwwn.cdc.gov/nchs/nhanes/Search/DataPage.aspx?Component=Laboratory&CycleBeginYear=2013\n",
      "QUES https://wwwn.cdc.gov/nchs/nhanes/Search/DataPage.aspx?Component=Questionnaire&CycleBeginYear=2013\n"
     ]
    }
   ],
   "source": [
    "def parse_main(URL, links, category):\n",
    "    page = requests.get(URL)\n",
    "    soup = BeautifulSoup(page.content, 'html.parser')\n",
    "    table = soup.find('table')\n",
    "\n",
    "    for link in table.find_all('a'):\n",
    "        if str(link.get('href')).endswith('.htm') == True:\n",
    "            link_j = urllib.parse.urljoin('https://wwwn.cdc.gov/', link.get('href'))\n",
    "            links[category].append(link_j)\n",
    "\n",
    "\n",
    "urls = {'DM':'https://wwwn.cdc.gov/nchs/nhanes/search/datapage.aspx?Component=Demographics&CycleBeginYear=2013',\n",
    "        'DIET':'https://wwwn.cdc.gov/nchs/nhanes/Search/DataPage.aspx?Component=Dietary&CycleBeginYear=2013',\n",
    "        'EXAM':'https://wwwn.cdc.gov/nchs/nhanes/Search/DataPage.aspx?Component=Examination&CycleBeginYear=2013',\n",
    "        'LAB':'https://wwwn.cdc.gov/nchs/nhanes/Search/DataPage.aspx?Component=Laboratory&CycleBeginYear=2013',\n",
    "        'QUES':'https://wwwn.cdc.gov/nchs/nhanes/Search/DataPage.aspx?Component=Questionnaire&CycleBeginYear=2013'}\n",
    "\n",
    "links = {v:[] for v in urls.keys()}\n",
    "\n",
    "for c, URL in urls.items():\n",
    "    print(c, URL)\n",
    "    parse_main(URL, links, c)"
   ]
  },
  {
   "cell_type": "code",
   "execution_count": 4,
   "id": "dbc7f9cc-97d5-410b-b3e3-24b111c3f27a",
   "metadata": {
    "tags": []
   },
   "outputs": [],
   "source": [
    "def parse_nhanes(links, codes):\n",
    "    for c, URLs in links.items():\n",
    "        for URL in URLs:\n",
    "            # access webs site\n",
    "            page = requests.get(URL)\n",
    "\n",
    "            # parse data\n",
    "            soup = BeautifulSoup(page.content, 'html.parser')\n",
    "            containers = soup.find_all('dl')\n",
    "            for i in containers:\n",
    "                try:\n",
    "                    varname = str(i.find(\"dt\",string=\"Variable Name: \").findNext(\"dd\").text)\n",
    "                    saslabel = str(i.find(\"dt\",string=\"SAS Label: \").findNext(\"dd\").text)\n",
    "#                     print(varname, saslabel)\n",
    "                    codes['category'].append(c)\n",
    "                    codes['variable'].append(varname.strip())\n",
    "                    codes['label'].append(saslabel.strip())\n",
    "                except:\n",
    "#                     print(f'error in {URL} {i}')\n",
    "                    pass\n",
    "    return codes\n",
    "\n",
    "codes = {\"category\": [], \"variable\": [], \"label\": []}\n",
    "\n",
    "\n",
    "parse_nhanes(links, codes)\n",
    "\n",
    "\n",
    "codebook = pd.DataFrame(codes)"
   ]
  },
  {
   "cell_type": "code",
   "execution_count": 5,
   "id": "c6ac2818-7443-40f4-b968-25ffbf3e85de",
   "metadata": {
    "tags": []
   },
   "outputs": [
    {
     "data": {
      "text/plain": [
       "category  variable  label                                 \n",
       "LAB       SEQN      Respondent sequence number                91\n",
       "QUES      SEQN      Respondent sequence number                43\n",
       "EXAM      SEQN      Respondent sequence number                19\n",
       "          DXXPT30X  x-coordinates of outline points 31        13\n",
       "          DXXPT35Y  y-coordinates of outline points 36        13\n",
       "                                                              ..\n",
       "          OHX11CJS  LOA: Max L(C) MF FGM-CEJ(mm)               1\n",
       "          OHX11CSC  Coronal Caries:  Surface condition #11     1\n",
       "          OHX11CTC  Coronal Caries: Tooth Count #11            1\n",
       "          OHX11LAA  LOA: Max L(C) ML calculated AL(mm)         1\n",
       "QUES      WTSVOC2Y  VOC Subsample Weight                       1\n",
       "Name: count, Length: 4087, dtype: int64"
      ]
     },
     "execution_count": 5,
     "metadata": {},
     "output_type": "execute_result"
    }
   ],
   "source": [
    "codebook.value_counts()"
   ]
  },
  {
   "cell_type": "code",
   "execution_count": 6,
   "id": "b1337b94-4226-4014-9209-078269ae3030",
   "metadata": {
    "tags": []
   },
   "outputs": [
    {
     "name": "stdout",
     "output_type": "stream",
     "text": [
      "      variable                                   label\n",
      "0         SEQN              Respondent sequence number\n",
      "1     SDDSRVYR                      Data release cycle\n",
      "2     RIDSTATR            Interview/Examination status\n",
      "3     RIAGENDR                                  Gender\n",
      "4     RIDAGEYR               Age in years at screening\n",
      "...        ...                                     ...\n",
      "7302    WHD140  Self-reported greatest weight (pounds)\n",
      "7303    WHQ150                Age when heaviest weight\n",
      "7305   WHQ030M         How do you consider your weight\n",
      "7306    WHQ500               Trying to do about weight\n",
      "7307    WHQ520          How often tried to lose weight\n",
      "\n",
      "[4019 rows x 2 columns]\n"
     ]
    }
   ],
   "source": [
    "code_unique = codebook[['variable', 'label']].drop_duplicates(subset=['variable'])\n",
    "print(code_unique)"
   ]
  },
  {
   "cell_type": "code",
   "execution_count": 7,
   "id": "2dd11a80-81f6-407f-ae56-7d6fdd340090",
   "metadata": {
    "tags": []
   },
   "outputs": [],
   "source": [
    "code_unique.to_csv('nhanes_2013_2014_codebook.csv', index=False)"
   ]
  }
 ],
 "metadata": {
  "kernelspec": {
   "display_name": "Python 3 (ipykernel)",
   "language": "python",
   "name": "python3"
  },
  "language_info": {
   "codemirror_mode": {
    "name": "ipython",
    "version": 3
   },
   "file_extension": ".py",
   "mimetype": "text/x-python",
   "name": "python",
   "nbconvert_exporter": "python",
   "pygments_lexer": "ipython3",
   "version": "3.11.5"
  }
 },
 "nbformat": 4,
 "nbformat_minor": 5
}
